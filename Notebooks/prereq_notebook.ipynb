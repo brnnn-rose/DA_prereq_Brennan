{
 "cells": [
  {
   "cell_type": "code",
   "execution_count": 2,
   "id": "08f3b3be",
   "metadata": {},
   "outputs": [
    {
     "name": "stdout",
     "output_type": "stream",
     "text": [
      "Hello mentors and training team!\n"
     ]
    }
   ],
   "source": [
    "print(\"Hello mentors and training team!\")"
   ]
  },
  {
   "cell_type": "markdown",
   "id": "0c2b4888",
   "metadata": {},
   "source": [
    "Hello, my name is Brennan Rose and this is my first cohort with CodeYou! I have choosen the Data Analysis pathway because I am eager to continuing to learn about python and SQL. Along with this program I have decided to continue my education by pursing a masters degree in Business Analytics from Norther Kentucky Univeristy. I am hoping that the knowledge I gain from CodeYou and the information I learn during my masters program, will help develope me into the technology professional that I strive to be!"
   ]
  }
 ],
 "metadata": {
  "kernelspec": {
   "display_name": "Python 3",
   "language": "python",
   "name": "python3"
  },
  "language_info": {
   "codemirror_mode": {
    "name": "ipython",
    "version": 3
   },
   "file_extension": ".py",
   "mimetype": "text/x-python",
   "name": "python",
   "nbconvert_exporter": "python",
   "pygments_lexer": "ipython3",
   "version": "3.9.6"
  }
 },
 "nbformat": 4,
 "nbformat_minor": 5
}
